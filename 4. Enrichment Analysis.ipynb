{
 "cells": [
  {
   "cell_type": "markdown",
   "id": "015c9d61",
   "metadata": {},
   "source": [
    "# Load data and go to directory with python scripts"
   ]
  },
  {
   "cell_type": "code",
   "execution_count": 9,
   "id": "c1926bd0",
   "metadata": {},
   "outputs": [
    {
     "name": "stdout",
     "output_type": "stream",
     "text": [
      "/Users/jendawk/Dropbox (MIT)/C Diff Recurrence Paper/Analyses/scripts\n"
     ]
    }
   ],
   "source": [
    "scripts_path = '/Users/jendawk/Dropbox (MIT)/C Diff Recurrence Paper/Analyses/scripts/'\n",
    "\n",
    "# Path to save figures\n",
    "path_to_save = '/'.join(scripts_path.split('/')[:-2]) + '/'\n",
    "\n",
    "# Path to save supplementary and figure data folders\n",
    "save_path = '/Users/jendawk/Dropbox (MIT)/C Diff Recurrence Paper/'\n",
    "%cd $scripts_path"
   ]
  },
  {
   "cell_type": "code",
   "execution_count": 10,
   "id": "03873a51",
   "metadata": {},
   "outputs": [
    {
     "name": "stdout",
     "output_type": "stream",
     "text": [
      "No patient demographic/clinical data available due to identifiability\n"
     ]
    }
   ],
   "source": [
    "from dataLoader import *\n",
    "from helper import *\n",
    "import scipy.stats as st\n",
    "from collections import Counter\n",
    "import sklearn\n",
    "from matplotlib import cm\n",
    "import scipy\n",
    "import  itertools\n",
    "from datetime import datetime\n",
    "\n",
    "from seaborn import clustermap\n",
    "from scipy.cluster.hierarchy import linkage\n",
    "from sklearn.linear_model import LogisticRegression\n",
    "import os\n",
    "import time\n",
    "import pickle as pkl\n",
    "import re\n",
    "from matplotlib_venn import venn3, venn2\n",
    "from statsmodels.stats.multitest import multipletests\n",
    "dl = dataLoader(pt_perc = {'metabs': .25, '16s': .05, 'scfa': 0, 'toxin':0}, meas_thresh = \n",
    "                {'metabs': 0, '16s': 10, 'scfa': 0, 'toxin':0}, \n",
    "                var_perc = {'metabs': 15, '16s': 5, 'scfa': 0, 'toxin':0})\n"
   ]
  },
  {
   "cell_type": "markdown",
   "id": "e9055d62",
   "metadata": {},
   "source": [
    "# Define functions for doing over representation analysis"
   ]
  },
  {
   "cell_type": "code",
   "execution_count": 11,
   "id": "46b8684f",
   "metadata": {},
   "outputs": [],
   "source": [
    "import math\n",
    "def combination(n,k):\n",
    "    return math.factorial(n)/(math.factorial(k)*math.factorial(n-k))\n",
    "\n",
    "def ora(x, X):\n",
    "    N = len(X)\n",
    "    n = len(x)\n",
    "#     print('n=' + str(n))\n",
    "    num_hits = {}\n",
    "    num_hits_expected = {}\n",
    "    prob = {}\n",
    "    for group in np.unique(x):\n",
    "        k = np.sum(np.array(x)==group)\n",
    "        K = np.sum(np.array(X)==group)\n",
    "        if K < 4 or k < 3 or group == 'None' or group == 'Partially Characterized Molecules':\n",
    "#             print(group + ': K='+str(K) + ', k=' + str(k))\n",
    "            continue\n",
    "        num_hits[group] = k\n",
    "        num_hits_expected[group] = (K/N)*n\n",
    "        prob[group] = (combination(K,k)*combination(N-K, n-k))/combination(N,n)\n",
    "    if len(prob)==0:\n",
    "        return None\n",
    "\n",
    "    gps, pvals = zip(*prob.items())\n",
    "    reject, corrected, a1, a2 = multipletests(list(pvals), alpha=.05, method='fdr_bh')\n",
    "    fdr = {gp:corr for gp, corr in zip(gps, corrected)}\n",
    "    out_df = pd.DataFrame({'# Hits':num_hits, '# Expected Hits': num_hits_expected, 'p-value': prob, 'FDR': fdr})\n",
    "    return out_df.sort_values('p-value', ascending = True)"
   ]
  },
  {
   "cell_type": "markdown",
   "id": "8f80b2f7",
   "metadata": {},
   "source": [
    "# Enrichment analysis for metabolites"
   ]
  },
  {
   "cell_type": "code",
   "execution_count": 18,
   "id": "40eda3d3",
   "metadata": {},
   "outputs": [],
   "source": [
    "path = path_to_save + '/univariate_analysis_control/metabs/'\n",
    "save_dict = {}\n",
    "keys = []\n",
    "vals = []\n",
    "file = 'OLS_metabs_Recurrer_0v1.csv'\n",
    "df = pd.read_csv(path + file, index_col = 0)\n",
    "mets = df.index.values[df['FDR, Week']<= 0.05]"
   ]
  },
  {
   "cell_type": "code",
   "execution_count": 22,
   "id": "5c0690da",
   "metadata": {},
   "outputs": [],
   "source": [
    "pathway = 'SUPER_PATHWAY'\n",
    "X = dl.col_mat_mets[pathway].loc[df.index.values]\n",
    "x = dl.col_mat_mets[pathway].loc[mets]"
   ]
  },
  {
   "cell_type": "code",
   "execution_count": 48,
   "id": "e35a8b89",
   "metadata": {},
   "outputs": [],
   "source": [
    "group = 'Xenobiotics'\n",
    "k = np.sum(np.array(x)==group)\n",
    "K = np.sum(np.array(X)==group)"
   ]
  },
  {
   "cell_type": "code",
   "execution_count": 38,
   "id": "1b25b730",
   "metadata": {},
   "outputs": [],
   "source": [
    "N = len(X)\n",
    "n = len(x)"
   ]
  },
  {
   "cell_type": "code",
   "execution_count": 39,
   "id": "eb53e3ba",
   "metadata": {},
   "outputs": [
    {
     "data": {
      "text/plain": [
       "0.1512927729792643"
      ]
     },
     "execution_count": 39,
     "metadata": {},
     "output_type": "execute_result"
    }
   ],
   "source": [
    "(combination(K,k)*combination(N-K, n-k))/combination(N,n)"
   ]
  },
  {
   "cell_type": "code",
   "execution_count": 44,
   "id": "8129bb85",
   "metadata": {},
   "outputs": [
    {
     "data": {
      "text/plain": [
       "4.0941550940571055e+60"
      ]
     },
     "execution_count": 44,
     "metadata": {},
     "output_type": "execute_result"
    }
   ],
   "source": [
    "combination(N-K,n-k)"
   ]
  },
  {
   "cell_type": "code",
   "execution_count": 45,
   "id": "c490d09e",
   "metadata": {},
   "outputs": [
    {
     "data": {
      "text/plain": [
       "1.9571003005264597e+67"
      ]
     },
     "execution_count": 45,
     "metadata": {},
     "output_type": "execute_result"
    }
   ],
   "source": [
    "combination(K,k)*combination(N-K,n-k)"
   ]
  },
  {
   "cell_type": "code",
   "execution_count": 46,
   "id": "3912274a",
   "metadata": {},
   "outputs": [
    {
     "data": {
      "text/plain": [
       "1.2935847905931988e+68"
      ]
     },
     "execution_count": 46,
     "metadata": {},
     "output_type": "execute_result"
    }
   ],
   "source": [
    "combination(N,n)"
   ]
  },
  {
   "cell_type": "code",
   "execution_count": 47,
   "id": "9451d99d",
   "metadata": {},
   "outputs": [
    {
     "data": {
      "text/plain": [
       "4780230.0"
      ]
     },
     "execution_count": 47,
     "metadata": {},
     "output_type": "execute_result"
    }
   ],
   "source": [
    "combination(K,k)"
   ]
  },
  {
   "cell_type": "code",
   "execution_count": 51,
   "id": "ea1d8088",
   "metadata": {},
   "outputs": [
    {
     "data": {
      "text/plain": [
       "1703016.0"
      ]
     },
     "execution_count": 51,
     "metadata": {},
     "output_type": "execute_result"
    }
   ],
   "source": [
    "combination(218,3)"
   ]
  },
  {
   "cell_type": "code",
   "execution_count": 52,
   "id": "0743ffb5",
   "metadata": {},
   "outputs": [
    {
     "data": {
      "text/plain": [
       "4780230.0"
      ]
     },
     "execution_count": 52,
     "metadata": {},
     "output_type": "execute_result"
    }
   ],
   "source": [
    "combination(105,4)"
   ]
  },
  {
   "cell_type": "code",
   "execution_count": 40,
   "id": "a419e954",
   "metadata": {},
   "outputs": [
    {
     "data": {
      "text/plain": [
       "5.6644736842105265"
      ]
     },
     "execution_count": 40,
     "metadata": {},
     "output_type": "execute_result"
    }
   ],
   "source": [
    "(K/N)*n"
   ]
  },
  {
   "cell_type": "code",
   "execution_count": 41,
   "id": "b35ecdde",
   "metadata": {},
   "outputs": [
    {
     "data": {
      "text/plain": [
       "41"
      ]
     },
     "execution_count": 41,
     "metadata": {},
     "output_type": "execute_result"
    }
   ],
   "source": [
    "n"
   ]
  },
  {
   "cell_type": "code",
   "execution_count": 49,
   "id": "5c1584b5",
   "metadata": {},
   "outputs": [
    {
     "data": {
      "text/plain": [
       "218"
      ]
     },
     "execution_count": 49,
     "metadata": {},
     "output_type": "execute_result"
    }
   ],
   "source": [
    "K"
   ]
  },
  {
   "cell_type": "code",
   "execution_count": 50,
   "id": "7942d093",
   "metadata": {},
   "outputs": [
    {
     "data": {
      "text/plain": [
       "3"
      ]
     },
     "execution_count": 50,
     "metadata": {},
     "output_type": "execute_result"
    }
   ],
   "source": [
    "k"
   ]
  },
  {
   "cell_type": "code",
   "execution_count": 12,
   "id": "02c83392",
   "metadata": {},
   "outputs": [],
   "source": [
    "# Set path to where univariate analysis results of metabolites is stored\n",
    "path = path_to_save + '/univariate_analysis_control/metabs/'\n",
    "save_dict = {}\n",
    "keys = []\n",
    "vals = []\n",
    "for file in os.listdir(path):\n",
    "    if '.csv' not in file:\n",
    "        continue\n",
    "    if 'ranksum' in file:\n",
    "        continue\n",
    "        \n",
    "    df = pd.read_csv(path + file, index_col = 0)\n",
    "    try:\n",
    "        mets = df.index.values[df['FDR, Outcome']<= 0.05]\n",
    "    except:\n",
    "        mets = df.index.values[df['FDR, Week']<= 0.05]\n",
    "    if 'rrer' in file:\n",
    "        weeks = file.split('metabs')[1].split('_')[:-1]\n",
    "        outcome = file.split('_')[-1].split('.')[0]\n",
    "        a_type = 'Intra-group, ' + outcome + ', week ' + str(weeks[0]) + ' vs ' + str(weeks[1])\n",
    "    else:\n",
    "        a_type = 'Inter-group'\n",
    "\n",
    "    for pathway in ['SUPER_PATHWAY','SUB_PATHWAY']:\n",
    "        K = dl.col_mat_mets[pathway].loc[df.index.values]\n",
    "        k = dl.col_mat_mets[pathway].loc[mets]\n",
    "#         print(file)\n",
    "#         print(pathway)\n",
    "#         print(ora(k,K))\n",
    "        val = ora(k,K)\n",
    "        if val is not None:\n",
    "            keys.append((a_type, pathway))\n",
    "            vals.append(val.append(pd.Series(['']*val.shape[1], name = '_')))\n",
    "#         save_dict['Metabolites'][(a_type, pathway)] = ora(k,K)\n",
    "#         print('')\n",
    "out_df_mets = pd.concat(vals, axis = 0, keys = keys)"
   ]
  },
  {
   "cell_type": "code",
   "execution_count": 15,
   "id": "4c4c2845",
   "metadata": {},
   "outputs": [
    {
     "data": {
      "text/html": [
       "<div>\n",
       "<style scoped>\n",
       "    .dataframe tbody tr th:only-of-type {\n",
       "        vertical-align: middle;\n",
       "    }\n",
       "\n",
       "    .dataframe tbody tr th {\n",
       "        vertical-align: top;\n",
       "    }\n",
       "\n",
       "    .dataframe thead th {\n",
       "        text-align: right;\n",
       "    }\n",
       "</style>\n",
       "<table border=\"1\" class=\"dataframe\">\n",
       "  <thead>\n",
       "    <tr style=\"text-align: right;\">\n",
       "      <th></th>\n",
       "      <th></th>\n",
       "      <th></th>\n",
       "      <th># Hits</th>\n",
       "      <th># Expected Hits</th>\n",
       "      <th>p-value</th>\n",
       "      <th>FDR</th>\n",
       "      <th>0</th>\n",
       "      <th>1</th>\n",
       "      <th>2</th>\n",
       "      <th>3</th>\n",
       "    </tr>\n",
       "  </thead>\n",
       "  <tbody>\n",
       "    <tr>\n",
       "      <th rowspan=\"5\" valign=\"top\">Intra-group, 0v1, week  vs Recurrer</th>\n",
       "      <th rowspan=\"5\" valign=\"top\">SUPER_PATHWAY</th>\n",
       "      <th>Xenobiotics</th>\n",
       "      <td>3.0</td>\n",
       "      <td>11.760526</td>\n",
       "      <td>0.000520</td>\n",
       "      <td>0.002601</td>\n",
       "      <td>NaN</td>\n",
       "      <td>NaN</td>\n",
       "      <td>NaN</td>\n",
       "      <td>NaN</td>\n",
       "    </tr>\n",
       "    <tr>\n",
       "      <th>Lipid</th>\n",
       "      <td>25.0</td>\n",
       "      <td>15.968421</td>\n",
       "      <td>0.001808</td>\n",
       "      <td>0.004519</td>\n",
       "      <td>NaN</td>\n",
       "      <td>NaN</td>\n",
       "      <td>NaN</td>\n",
       "      <td>NaN</td>\n",
       "    </tr>\n",
       "    <tr>\n",
       "      <th>Nucleotide</th>\n",
       "      <td>5.0</td>\n",
       "      <td>2.319737</td>\n",
       "      <td>0.051493</td>\n",
       "      <td>0.085822</td>\n",
       "      <td>NaN</td>\n",
       "      <td>NaN</td>\n",
       "      <td>NaN</td>\n",
       "      <td>NaN</td>\n",
       "    </tr>\n",
       "    <tr>\n",
       "      <th>Peptide</th>\n",
       "      <td>3.0</td>\n",
       "      <td>1.456579</td>\n",
       "      <td>0.121885</td>\n",
       "      <td>0.151293</td>\n",
       "      <td>NaN</td>\n",
       "      <td>NaN</td>\n",
       "      <td>NaN</td>\n",
       "      <td>NaN</td>\n",
       "    </tr>\n",
       "    <tr>\n",
       "      <th>Amino Acid</th>\n",
       "      <td>4.0</td>\n",
       "      <td>5.664474</td>\n",
       "      <td>0.151293</td>\n",
       "      <td>0.151293</td>\n",
       "      <td>NaN</td>\n",
       "      <td>NaN</td>\n",
       "      <td>NaN</td>\n",
       "      <td>NaN</td>\n",
       "    </tr>\n",
       "    <tr>\n",
       "      <th>...</th>\n",
       "      <th>...</th>\n",
       "      <th>...</th>\n",
       "      <td>...</td>\n",
       "      <td>...</td>\n",
       "      <td>...</td>\n",
       "      <td>...</td>\n",
       "      <td>...</td>\n",
       "      <td>...</td>\n",
       "      <td>...</td>\n",
       "      <td>...</td>\n",
       "    </tr>\n",
       "    <tr>\n",
       "      <th rowspan=\"5\" valign=\"top\">Inter-group</th>\n",
       "      <th rowspan=\"2\" valign=\"top\">SUPER_PATHWAY</th>\n",
       "      <th>Xenobiotics</th>\n",
       "      <td>5.0</td>\n",
       "      <td>6.023684</td>\n",
       "      <td>0.178518</td>\n",
       "      <td>0.178518</td>\n",
       "      <td>NaN</td>\n",
       "      <td>NaN</td>\n",
       "      <td>NaN</td>\n",
       "      <td>NaN</td>\n",
       "    </tr>\n",
       "    <tr>\n",
       "      <th>_</th>\n",
       "      <td>NaN</td>\n",
       "      <td>NaN</td>\n",
       "      <td>NaN</td>\n",
       "      <td>NaN</td>\n",
       "      <td></td>\n",
       "      <td></td>\n",
       "      <td></td>\n",
       "      <td></td>\n",
       "    </tr>\n",
       "    <tr>\n",
       "      <th rowspan=\"3\" valign=\"top\">SUB_PATHWAY</th>\n",
       "      <th>Sphingomyelins</th>\n",
       "      <td>4.0</td>\n",
       "      <td>0.386842</td>\n",
       "      <td>0.000346</td>\n",
       "      <td>0.000691</td>\n",
       "      <td>NaN</td>\n",
       "      <td>NaN</td>\n",
       "      <td>NaN</td>\n",
       "      <td>NaN</td>\n",
       "    </tr>\n",
       "    <tr>\n",
       "      <th>Food Component/Plant</th>\n",
       "      <td>4.0</td>\n",
       "      <td>3.951316</td>\n",
       "      <td>0.219939</td>\n",
       "      <td>0.219939</td>\n",
       "      <td>NaN</td>\n",
       "      <td>NaN</td>\n",
       "      <td>NaN</td>\n",
       "      <td>NaN</td>\n",
       "    </tr>\n",
       "    <tr>\n",
       "      <th>_</th>\n",
       "      <td>NaN</td>\n",
       "      <td>NaN</td>\n",
       "      <td>NaN</td>\n",
       "      <td>NaN</td>\n",
       "      <td></td>\n",
       "      <td></td>\n",
       "      <td></td>\n",
       "      <td></td>\n",
       "    </tr>\n",
       "  </tbody>\n",
       "</table>\n",
       "<p>68 rows × 8 columns</p>\n",
       "</div>"
      ],
      "text/plain": [
       "                                                                        # Hits  \\\n",
       "Intra-group, 0v1, week  vs Recurrer SUPER_PATHWAY Xenobiotics              3.0   \n",
       "                                                  Lipid                   25.0   \n",
       "                                                  Nucleotide               5.0   \n",
       "                                                  Peptide                  3.0   \n",
       "                                                  Amino Acid               4.0   \n",
       "...                                                                        ...   \n",
       "Inter-group                         SUPER_PATHWAY Xenobiotics              5.0   \n",
       "                                                  _                        NaN   \n",
       "                                    SUB_PATHWAY   Sphingomyelins           4.0   \n",
       "                                                  Food Component/Plant     4.0   \n",
       "                                                  _                        NaN   \n",
       "\n",
       "                                                                        # Expected Hits  \\\n",
       "Intra-group, 0v1, week  vs Recurrer SUPER_PATHWAY Xenobiotics                 11.760526   \n",
       "                                                  Lipid                       15.968421   \n",
       "                                                  Nucleotide                   2.319737   \n",
       "                                                  Peptide                      1.456579   \n",
       "                                                  Amino Acid                   5.664474   \n",
       "...                                                                                 ...   \n",
       "Inter-group                         SUPER_PATHWAY Xenobiotics                  6.023684   \n",
       "                                                  _                                 NaN   \n",
       "                                    SUB_PATHWAY   Sphingomyelins               0.386842   \n",
       "                                                  Food Component/Plant         3.951316   \n",
       "                                                  _                                 NaN   \n",
       "\n",
       "                                                                         p-value  \\\n",
       "Intra-group, 0v1, week  vs Recurrer SUPER_PATHWAY Xenobiotics           0.000520   \n",
       "                                                  Lipid                 0.001808   \n",
       "                                                  Nucleotide            0.051493   \n",
       "                                                  Peptide               0.121885   \n",
       "                                                  Amino Acid            0.151293   \n",
       "...                                                                          ...   \n",
       "Inter-group                         SUPER_PATHWAY Xenobiotics           0.178518   \n",
       "                                                  _                          NaN   \n",
       "                                    SUB_PATHWAY   Sphingomyelins        0.000346   \n",
       "                                                  Food Component/Plant  0.219939   \n",
       "                                                  _                          NaN   \n",
       "\n",
       "                                                                             FDR  \\\n",
       "Intra-group, 0v1, week  vs Recurrer SUPER_PATHWAY Xenobiotics           0.002601   \n",
       "                                                  Lipid                 0.004519   \n",
       "                                                  Nucleotide            0.085822   \n",
       "                                                  Peptide               0.151293   \n",
       "                                                  Amino Acid            0.151293   \n",
       "...                                                                          ...   \n",
       "Inter-group                         SUPER_PATHWAY Xenobiotics           0.178518   \n",
       "                                                  _                          NaN   \n",
       "                                    SUB_PATHWAY   Sphingomyelins        0.000691   \n",
       "                                                  Food Component/Plant  0.219939   \n",
       "                                                  _                          NaN   \n",
       "\n",
       "                                                                          0  \\\n",
       "Intra-group, 0v1, week  vs Recurrer SUPER_PATHWAY Xenobiotics           NaN   \n",
       "                                                  Lipid                 NaN   \n",
       "                                                  Nucleotide            NaN   \n",
       "                                                  Peptide               NaN   \n",
       "                                                  Amino Acid            NaN   \n",
       "...                                                                     ...   \n",
       "Inter-group                         SUPER_PATHWAY Xenobiotics           NaN   \n",
       "                                                  _                           \n",
       "                                    SUB_PATHWAY   Sphingomyelins        NaN   \n",
       "                                                  Food Component/Plant  NaN   \n",
       "                                                  _                           \n",
       "\n",
       "                                                                          1  \\\n",
       "Intra-group, 0v1, week  vs Recurrer SUPER_PATHWAY Xenobiotics           NaN   \n",
       "                                                  Lipid                 NaN   \n",
       "                                                  Nucleotide            NaN   \n",
       "                                                  Peptide               NaN   \n",
       "                                                  Amino Acid            NaN   \n",
       "...                                                                     ...   \n",
       "Inter-group                         SUPER_PATHWAY Xenobiotics           NaN   \n",
       "                                                  _                           \n",
       "                                    SUB_PATHWAY   Sphingomyelins        NaN   \n",
       "                                                  Food Component/Plant  NaN   \n",
       "                                                  _                           \n",
       "\n",
       "                                                                          2  \\\n",
       "Intra-group, 0v1, week  vs Recurrer SUPER_PATHWAY Xenobiotics           NaN   \n",
       "                                                  Lipid                 NaN   \n",
       "                                                  Nucleotide            NaN   \n",
       "                                                  Peptide               NaN   \n",
       "                                                  Amino Acid            NaN   \n",
       "...                                                                     ...   \n",
       "Inter-group                         SUPER_PATHWAY Xenobiotics           NaN   \n",
       "                                                  _                           \n",
       "                                    SUB_PATHWAY   Sphingomyelins        NaN   \n",
       "                                                  Food Component/Plant  NaN   \n",
       "                                                  _                           \n",
       "\n",
       "                                                                          3  \n",
       "Intra-group, 0v1, week  vs Recurrer SUPER_PATHWAY Xenobiotics           NaN  \n",
       "                                                  Lipid                 NaN  \n",
       "                                                  Nucleotide            NaN  \n",
       "                                                  Peptide               NaN  \n",
       "                                                  Amino Acid            NaN  \n",
       "...                                                                     ...  \n",
       "Inter-group                         SUPER_PATHWAY Xenobiotics           NaN  \n",
       "                                                  _                          \n",
       "                                    SUB_PATHWAY   Sphingomyelins        NaN  \n",
       "                                                  Food Component/Plant  NaN  \n",
       "                                                  _                          \n",
       "\n",
       "[68 rows x 8 columns]"
      ]
     },
     "execution_count": 15,
     "metadata": {},
     "output_type": "execute_result"
    }
   ],
   "source": [
    "out_df_mets"
   ]
  },
  {
   "cell_type": "markdown",
   "id": "df491ead",
   "metadata": {},
   "source": [
    "# Enrichment analysis for ASVs"
   ]
  },
  {
   "cell_type": "code",
   "execution_count": 13,
   "id": "b78bb813",
   "metadata": {},
   "outputs": [],
   "source": [
    "path = path_to_save + '/univariate_analysis_control/16s/'\n",
    "path_taxa = 'inputs/'\n",
    "taxa = pd.read_csv(path_taxa + 'dada2-taxonomy-rdp.csv', index_col = 0)\n",
    "save_dict['ASVs'] = {}\n",
    "keys = []\n",
    "vals = []\n",
    "for file in os.listdir(path):\n",
    "    if '.csv' not in file:\n",
    "        continue\n",
    "        \n",
    "    df = pd.read_csv(path + file, index_col = 0)\n",
    "    FAM = taxa[df.index.values].loc['Family'].dropna()\n",
    "    mets = df.index.values[df['padj']<= 0.05]\n",
    "    fam = taxa[mets].loc['Family'].dropna()\n",
    "    val = ora(fam, FAM)\n",
    "    \n",
    "    if 'rrer' in file:\n",
    "        weeks = file.split('rrer')[1].split('.')[0].split('_')\n",
    "        outcome = file.split('_')[1].split('s')[1].split(weeks[0])[0]\n",
    "        a_type = 'Intra-group, ' + outcome + ', week ' + str(weeks[0]) + ' vs ' + str(weeks[1])\n",
    "    else:\n",
    "        a_type = 'Inter-group'\n",
    "        \n",
    "    if val is not None:\n",
    "        keys.append((a_type, 'Family'))\n",
    "        vals.append(val.append(pd.Series(['']*val.shape[1], name = '_')))\n",
    "out_df_ASVs = pd.concat(vals, axis = 0, keys = keys)"
   ]
  },
  {
   "cell_type": "code",
   "execution_count": 14,
   "id": "3a0312bb",
   "metadata": {},
   "outputs": [],
   "source": [
    "path_save = save_path + '/Supplemental Tables/'\n",
    "fname = 'Enrichment Analysis - Controlled.xlsx'\n",
    "with pd.ExcelWriter(path_save + fname, mode = 'w') as writer:\n",
    "    out_df_ASVs.to_excel(writer, sheet_name = 'ASVs')\n",
    "    \n",
    "with pd.ExcelWriter(path_save + fname, mode = 'a') as writer:\n",
    "    out_df_mets.to_excel(writer, sheet_name = 'Metabolites')"
   ]
  },
  {
   "cell_type": "code",
   "execution_count": null,
   "id": "74a648ba",
   "metadata": {},
   "outputs": [],
   "source": []
  }
 ],
 "metadata": {
  "kernelspec": {
   "display_name": "Python (CodeBase)",
   "language": "python",
   "name": "codebase"
  },
  "language_info": {
   "codemirror_mode": {
    "name": "ipython",
    "version": 3
   },
   "file_extension": ".py",
   "mimetype": "text/x-python",
   "name": "python",
   "nbconvert_exporter": "python",
   "pygments_lexer": "ipython3",
   "version": "3.7.10"
  }
 },
 "nbformat": 4,
 "nbformat_minor": 5
}
