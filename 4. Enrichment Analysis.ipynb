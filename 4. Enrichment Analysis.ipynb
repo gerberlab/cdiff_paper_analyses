{
 "cells": [
  {
   "cell_type": "markdown",
   "id": "015c9d61",
   "metadata": {},
   "source": [
    "# Load data and go to directory with python scripts"
   ]
  },
  {
   "cell_type": "code",
   "execution_count": 2,
   "id": "c1926bd0",
   "metadata": {},
   "outputs": [
    {
     "name": "stdout",
     "output_type": "stream",
     "text": [
      "/Users/jendawk/Dropbox (MIT)/C Diff Recurrence Paper/Analyses/scripts\n"
     ]
    }
   ],
   "source": [
    "scripts_path = '/Users/jendawk/Dropbox (MIT)/C Diff Recurrence Paper/Analyses/scripts/'\n",
    "\n",
    "# Path to save figures\n",
    "path_to_save = '/'.join(scripts_path.split('/')[:-2]) + '/'\n",
    "\n",
    "# Path to save supplementary and figure data folders\n",
    "save_path = '/Users/jendawk/Dropbox (MIT)/C Diff Recurrence Paper/'\n",
    "%cd $scripts_path"
   ]
  },
  {
   "cell_type": "code",
   "execution_count": 1,
   "id": "03873a51",
   "metadata": {},
   "outputs": [
    {
     "name": "stdout",
     "output_type": "stream",
     "text": [
      "/Users/jendawk/Dropbox (MIT)/C Diff Recurrence Paper/Analyses/scripts\n"
     ]
    },
    {
     "name": "stderr",
     "output_type": "stream",
     "text": [
      "/Users/jendawk/miniconda3/envs/CodeBase/lib/python3.7/site-packages/pandas/core/generic.py:5494: SettingWithCopyWarning: \n",
      "A value is trying to be set on a copy of a slice from a DataFrame.\n",
      "Try using .loc[row_indexer,col_indexer] = value instead\n",
      "\n",
      "See the caveats in the documentation: https://pandas.pydata.org/pandas-docs/stable/user_guide/indexing.html#returning-a-view-versus-a-copy\n",
      "  self[name] = value\n"
     ]
    }
   ],
   "source": [
    "from dataLoader import *\n",
    "from helper import *\n",
    "import scipy.stats as st\n",
    "from collections import Counter\n",
    "import sklearn\n",
    "from matplotlib import cm\n",
    "import scipy\n",
    "import  itertools\n",
    "from datetime import datetime\n",
    "\n",
    "from seaborn import clustermap\n",
    "from scipy.cluster.hierarchy import linkage\n",
    "from sklearn.linear_model import LogisticRegression\n",
    "import os\n",
    "import time\n",
    "import pickle as pkl\n",
    "import re\n",
    "from matplotlib_venn import venn3, venn2\n",
    "from statsmodels.stats.multitest import multipletests\n",
    "dl = dataLoader(pt_perc = {'metabs': .25, '16s': .05, 'scfa': 0, 'toxin':0}, meas_thresh = \n",
    "                {'metabs': 0, '16s': 10, 'scfa': 0, 'toxin':0}, \n",
    "                var_perc = {'metabs': 15, '16s': 5, 'scfa': 0, 'toxin':0})\n"
   ]
  },
  {
   "cell_type": "markdown",
   "id": "e9055d62",
   "metadata": {},
   "source": [
    "# Define functions for doing over representation analysis"
   ]
  },
  {
   "cell_type": "code",
   "execution_count": 18,
   "id": "46b8684f",
   "metadata": {},
   "outputs": [],
   "source": [
    "import math\n",
    "def combination(n,k):\n",
    "    return math.factorial(n)/(math.factorial(k)*math.factorial(n-k))\n",
    "\n",
    "def ora(x, X):\n",
    "    N = len(X)\n",
    "    n = len(x)\n",
    "#     print('n=' + str(n))\n",
    "    num_hits = {}\n",
    "    num_hits_expected = {}\n",
    "    prob = {}\n",
    "    for group in np.unique(x):\n",
    "        k = np.sum(np.array(x)==group)\n",
    "        K = np.sum(np.array(X)==group)\n",
    "        if K < 4 or k < 3 or group == 'None' or group == 'Partially Characterized Molecules':\n",
    "#             print(group + ': K='+str(K) + ', k=' + str(k))\n",
    "            continue\n",
    "        num_hits[group] = k\n",
    "        num_hits_expected[group] = (K/N)*n\n",
    "        prob[group] = (combination(K,k)*combination(N-K, n-k))/combination(N,n)\n",
    "    if len(prob)==0:\n",
    "        return None\n",
    "\n",
    "    gps, pvals = zip(*prob.items())\n",
    "    reject, corrected, a1, a2 = multipletests(list(pvals), alpha=.05, method='fdr_bh')\n",
    "    fdr = {gp:corr for gp, corr in zip(gps, corrected)}\n",
    "    out_df = pd.DataFrame({'# Hits':num_hits, '# Expected Hits': num_hits_expected, 'p-value': prob, 'FDR': fdr})\n",
    "    return out_df.sort_values('p-value', ascending = True)"
   ]
  },
  {
   "cell_type": "markdown",
   "id": "8f80b2f7",
   "metadata": {},
   "source": [
    "# Enrichment analysis for metabolites"
   ]
  },
  {
   "cell_type": "code",
   "execution_count": 63,
   "id": "02c83392",
   "metadata": {},
   "outputs": [],
   "source": [
    "# Set path to where univariate analysis results of metabolites is stored\n",
    "path = path_to_save + '/univariate_analysis/metabs/'\n",
    "save_dict = {}\n",
    "keys = []\n",
    "vals = []\n",
    "for file in os.listdir(path):\n",
    "    if '.csv' not in file:\n",
    "        continue\n",
    "    if 'ranksum' in file:\n",
    "        continue\n",
    "        \n",
    "    df = pd.read_csv(path + file, index_col = 0)\n",
    "    mets = df.index.values[df['BH corrected']<= 0.05]\n",
    "    if 'rrer' in file:\n",
    "        weeks = file.split('metabs')[1].split('_')[:-1]\n",
    "        outcome = file.split('_')[-1].split('.')[0]\n",
    "        a_type = 'Intra-group, ' + outcome + ', week ' + str(weeks[0]) + ' vs ' + str(weeks[1])\n",
    "    else:\n",
    "        a_type = 'Inter-group'\n",
    "\n",
    "    for pathway in ['SUPER_PATHWAY','SUB_PATHWAY']:\n",
    "        K = dl.col_mat_mets[pathway].loc[df.index.values]\n",
    "        k = dl.col_mat_mets[pathway].loc[mets]\n",
    "#         print(file)\n",
    "#         print(pathway)\n",
    "#         print(ora(k,K))\n",
    "        val = ora(k,K)\n",
    "        if val is not None:\n",
    "            keys.append((a_type, pathway))\n",
    "            vals.append(val.append(pd.Series(['']*val.shape[1], name = '_')))\n",
    "#         save_dict['Metabolites'][(a_type, pathway)] = ora(k,K)\n",
    "#         print('')\n",
    "out_df_mets = pd.concat(vals, axis = 0, keys = keys)"
   ]
  },
  {
   "cell_type": "markdown",
   "id": "df491ead",
   "metadata": {},
   "source": [
    "# Enrichment analysis for ASVs"
   ]
  },
  {
   "cell_type": "code",
   "execution_count": 64,
   "id": "b78bb813",
   "metadata": {},
   "outputs": [],
   "source": [
    "path = path_to_save + '/univariate_analysis/16s/'\n",
    "path_taxa = 'inputs/'\n",
    "taxa = pd.read_csv(path_taxa + 'dada2-taxonomy-rdp.csv', index_col = 0)\n",
    "save_dict['ASVs'] = {}\n",
    "keys = []\n",
    "vals = []\n",
    "for file in os.listdir(path):\n",
    "    if '.csv' not in file:\n",
    "        continue\n",
    "        \n",
    "    df = pd.read_csv(path + file, index_col = 0)\n",
    "    FAM = taxa[df.index.values].loc['Family'].dropna()\n",
    "    mets = df.index.values[df['padj']<= 0.05]\n",
    "    fam = taxa[mets].loc['Family'].dropna()\n",
    "    val = ora(fam, FAM)\n",
    "    \n",
    "    if 'rrer' in file:\n",
    "        weeks = file.split('rrer')[1].split('.')[0].split('_')\n",
    "        outcome = file.split('_')[1].split('s')[1].split(weeks[0])[0]\n",
    "        a_type = 'Intra-group, ' + outcome + ', week ' + str(weeks[0]) + ' vs ' + str(weeks[1])\n",
    "    else:\n",
    "        a_type = 'Inter-group'\n",
    "        \n",
    "    if val is not None:\n",
    "        keys.append((a_type, 'Family'))\n",
    "        vals.append(val.append(pd.Series(['']*val.shape[1], name = '_')))\n",
    "out_df_ASVs = pd.concat(vals, axis = 0, keys = keys)"
   ]
  },
  {
   "cell_type": "code",
   "execution_count": 65,
   "id": "3a0312bb",
   "metadata": {},
   "outputs": [],
   "source": [
    "path_save = save_path + '/Supplemental Tables/'\n",
    "fname = 'Table 3. Enrichment Analysis.xlsx'\n",
    "with pd.ExcelWriter(path_save + fname, mode = 'w') as writer:\n",
    "    out_df_ASVs.to_excel(writer, sheet_name = 'ASVs')\n",
    "    \n",
    "with pd.ExcelWriter(path_save + fname, mode = 'a') as writer:\n",
    "    out_df_mets.to_excel(writer, sheet_name = 'Metabolites')"
   ]
  },
  {
   "cell_type": "code",
   "execution_count": null,
   "id": "74a648ba",
   "metadata": {},
   "outputs": [],
   "source": []
  }
 ],
 "metadata": {
  "kernelspec": {
   "display_name": "Python (CodeBase)",
   "language": "python",
   "name": "codebase"
  },
  "language_info": {
   "codemirror_mode": {
    "name": "ipython",
    "version": 3
   },
   "file_extension": ".py",
   "mimetype": "text/x-python",
   "name": "python",
   "nbconvert_exporter": "python",
   "pygments_lexer": "ipython3",
   "version": "3.7.10"
  }
 },
 "nbformat": 4,
 "nbformat_minor": 5
}
